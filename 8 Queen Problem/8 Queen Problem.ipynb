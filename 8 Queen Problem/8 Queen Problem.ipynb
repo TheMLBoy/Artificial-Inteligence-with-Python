{
 "cells": [
  {
   "cell_type": "code",
   "execution_count": null,
   "metadata": {},
   "outputs": [],
   "source": [
    "import numpy as np\n",
    "from random import randrange"
   ]
  },
  {
   "cell_type": "code",
   "execution_count": null,
   "metadata": {},
   "outputs": [],
   "source": [
    "def Print_Board(Board):\n",
    "    Print=\"\"\n",
    "    for i in range(8):\n",
    "        Print+=\"\\n\"\n",
    "        for j in range(8):\n",
    "            if Board[i][j]==1:\n",
    "                Print+=\" ♟ \"\n",
    "            else:\n",
    "                Print+=\" o \"\n",
    "    print(Print)"
   ]
  },
  {
   "cell_type": "code",
   "execution_count": null,
   "metadata": {},
   "outputs": [],
   "source": [
    "def Randomly_Fill(ind):\n",
    "    Q=np.zeros(8,int)\n",
    "    B=np.zeros((8,8),bool)\n",
    "    for i in range(8):\n",
    "        Q[i]=int(randrange(8))\n",
    "        B[Q[i]][i]=1\n",
    "    Queens[ind]=Q\n",
    "    Boards[ind]=B"
   ]
  },
  {
   "cell_type": "code",
   "execution_count": null,
   "metadata": {},
   "outputs": [],
   "source": [
    "def Fitness(Board,Queen):\n",
    "    Fit=0\n",
    "    for i in range(8):\n",
    "        Horizontal=Vertical=L_Diagonal=R_Diagonal=RU_Diagonal=LB_Diagonal=0\n",
    "        Ind=Queen[i]\n",
    "        k=i\n",
    "        for j in range(8):\n",
    "            Horizontal+=Board[Queen[i]][j]\n",
    "        for j in range(8):\n",
    "            Vertical+=Board[j][Queen[i]]\n",
    "        while Ind>=0 and k>=0:\n",
    "            L_Diagonal+=Board[Ind][k]\n",
    "            Ind-=1\n",
    "            k-=1\n",
    "        Ind=Queen[i]\n",
    "        k=i\n",
    "        while Ind<8 and k<8:\n",
    "            R_Diagonal+=Board[Ind][k]\n",
    "            Ind+=1\n",
    "            k+=1\n",
    "        R=Queen[i]\n",
    "        C=i\n",
    "        while R<8 and C>=0:\n",
    "            RU_Diagonal+=Board[R][C]\n",
    "            R+=1\n",
    "            C-=1\n",
    "        R=Queen[i]\n",
    "        C=i\n",
    "        while R>=0 and C<8:\n",
    "            LB_Diagonal+=Board[R][C]\n",
    "            R-=1\n",
    "            C+=1\n",
    "        #print(Horizontal,Vertical,L_Diagonal,R_Diagonal)\n",
    "        if Horizontal==1 and Vertical==1 and L_Diagonal==1 and R_Diagonal==1 and RU_Diagonal==1 and LB_Diagonal==1:\n",
    "            Fit+=1\n",
    "    return Fit"
   ]
  },
  {
   "cell_type": "code",
   "execution_count": null,
   "metadata": {},
   "outputs": [],
   "source": [
    "def Mutation(Queen):\n",
    "    for y in range(4):\n",
    "        i=randrange(8)\n",
    "        val=Queen[i]\n",
    "        Queen[i]=randrange(8)"
   ]
  },
  {
   "cell_type": "code",
   "execution_count": null,
   "metadata": {},
   "outputs": [],
   "source": [
    "def Reproduce():\n",
    "    B = np.zeros((8,8),int)\n",
    "    Q = np.zeros(8,int)\n",
    "    for i in range(4):\n",
    "        Q[i] = Queens[Fitness_List[2]][i]\n",
    "    for i in range(4,8):\n",
    "        Q[i]=Queens[Fitness_List[3]][i]\n",
    "    Mutation(Q)\n",
    "    for i in range(8):\n",
    "        B[Q[i]][i] = 1 \n",
    "    Queens[Fitness_List[0]]=Q\n",
    "    Boards[Fitness_List[0]]=B\n",
    "    B = np.zeros((8,8),int)\n",
    "    Q = np.zeros(8,int)\n",
    "    for i in range(4):\n",
    "        Q[i] = Queens[Fitness_List[3]][i]\n",
    "        B[Q[i]][i] = 1 \n",
    "    for i in range(4,8):\n",
    "        Q[i]=Queens[Fitness_List[2]][i]\n",
    "        B[Q[i]][i] = 1\n",
    "    Mutation(Q)\n",
    "    for i in range(8):\n",
    "        B[Q[i]][i] = 1\n",
    "    Queens[Fitness_List[1]]=Q\n",
    "    Boards[Fitness_List[1]]=B"
   ]
  },
  {
   "cell_type": "code",
   "execution_count": null,
   "metadata": {},
   "outputs": [],
   "source": [
    "Boards =[np.zeros((8,8),bool)]\n",
    "Boards.extend(np.zeros((8,8),bool))\n",
    "Boards.extend(np.zeros((8,8),bool))\n",
    "Boards.extend(np.zeros((8,8),bool))\n",
    "Queens = [np.zeros(8,int)]\n",
    "Queens.extend(np.zeros(8,int))\n",
    "Queens.extend(np.zeros(8,int))\n",
    "Queens.extend(np.zeros(8,int))"
   ]
  },
  {
   "cell_type": "code",
   "execution_count": null,
   "metadata": {},
   "outputs": [],
   "source": [
    "Randomly_Fill(0)\n",
    "Randomly_Fill(1)\n",
    "Randomly_Fill(2)\n",
    "Randomly_Fill(3)\n",
    "Fitness_Record=dict()"
   ]
  },
  {
   "cell_type": "code",
   "execution_count": null,
   "metadata": {},
   "outputs": [],
   "source": [
    "iterations=0\n",
    "while(8 not in Fitness_Record.values()):    \n",
    "    Fitness_Record[0]=Fitness(Boards[0],Queens[0])\n",
    "    Fitness_Record[1]=Fitness(Boards[1],Queens[1])\n",
    "    Fitness_Record[2]=Fitness(Boards[2],Queens[2])\n",
    "    Fitness_Record[3]=Fitness(Boards[3],Queens[3])\n",
    "    Fitness_Record={k: v for k, v in sorted(Fitness_Record.items(), key=lambda item: item[1])}#sorting w.r.t values\n",
    "    Fitness_List=list(Fitness_Record.keys())\n",
    "    Reproduce()\n",
    "    print(Fitness_Record)\n",
    "    iterations+=1"
   ]
  },
  {
   "cell_type": "code",
   "execution_count": null,
   "metadata": {},
   "outputs": [],
   "source": [
    "for B,F in Fitness_Record.items():\n",
    "    if F == 8:\n",
    "        Print_Board(Boards[B])\n",
    "        print(\"Result found after\",iterations,\"iteratins.\")\n",
    "        break"
   ]
  }
 ],
 "metadata": {
  "kernelspec": {
   "display_name": "Python 3",
   "language": "python",
   "name": "python3"
  },
  "language_info": {
   "codemirror_mode": {
    "name": "ipython",
    "version": 3
   },
   "file_extension": ".py",
   "mimetype": "text/x-python",
   "name": "python",
   "nbconvert_exporter": "python",
   "pygments_lexer": "ipython3",
   "version": "3.7.4"
  }
 },
 "nbformat": 4,
 "nbformat_minor": 2
}
