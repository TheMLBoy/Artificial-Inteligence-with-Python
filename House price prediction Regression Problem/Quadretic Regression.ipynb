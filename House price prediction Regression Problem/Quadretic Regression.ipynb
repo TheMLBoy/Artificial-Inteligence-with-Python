{
 "cells": [
  {
   "cell_type": "code",
   "execution_count": 0,
   "metadata": {
    "colab": {},
    "colab_type": "code",
    "id": "DfuIISLpYg9E"
   },
   "outputs": [],
   "source": [
    "import pandas as pd\n",
    "import numpy as np\n",
    "import matplotlib.pyplot as plt"
   ]
  },
  {
   "cell_type": "code",
   "execution_count": 0,
   "metadata": {
    "colab": {},
    "colab_type": "code",
    "id": "4Y_WXgKraC2r"
   },
   "outputs": [],
   "source": [
    "Train_Data=pd.read_csv(\"trainRegression.csv\")\n",
    "Test_Data=pd.read_csv(\"testRegression.csv\")"
   ]
  },
  {
   "cell_type": "code",
   "execution_count": 0,
   "metadata": {
    "colab": {},
    "colab_type": "code",
    "id": "W-Wsdh0Dfydd"
   },
   "outputs": [],
   "source": [
    "X=np.array(Train_Data['X'])\n",
    "Y=np.array(Train_Data['Y'])\n",
    "Test_X=np.array(Test_Data['X'])\n",
    "Test_Y=np.array(Test_Data['Y'])"
   ]
  },
  {
   "cell_type": "markdown",
   "metadata": {
    "colab_type": "text",
    "id": "v9allAGyjGyW"
   },
   "source": [
    "# **Quadretic Regression**"
   ]
  },
  {
   "cell_type": "code",
   "execution_count": 0,
   "metadata": {
    "colab": {},
    "colab_type": "code",
    "id": "dD4rtslfjDw1"
   },
   "outputs": [],
   "source": [
    "A=np.zeros((3,3),float) # Matrix A init\n",
    "m=(X.shape)[0]\n",
    "A[0][0]=m\n",
    "A[0][1]=A[1][0]=sum(X)\n",
    "A[0][2]=A[1][1]=A[2][0]=X@X\n",
    "A[1][2]=A[2][1]=sum(np.power(X, 3))\n",
    "A[2][2]=sum(np.power(X, 4))\n",
    "B=np.zeros((3,1),float) # Matrix B init\n",
    "B[0][0]=sum(Y)\n",
    "B[1][0]=Y@X\n",
    "B[2][0]=Y@np.square(X)"
   ]
  },
  {
   "cell_type": "code",
   "execution_count": 0,
   "metadata": {
    "colab": {},
    "colab_type": "code",
    "id": "POU_UPlwpKqy"
   },
   "outputs": [],
   "source": [
    "#Finding theta\n",
    "Theta=np.linalg.inv(A)@B\n",
    "Test_X=(np.column_stack((np.ones((Test_X.shape[0],1),float),Test_X))) #adding colum of 1's in start of training X\n",
    "Test_X=(np.column_stack((Test_X,np.square(Test_X[:,1])))) #adding colum of X^2 in end of training X"
   ]
  },
  {
   "cell_type": "code",
   "execution_count": 0,
   "metadata": {
    "colab": {},
    "colab_type": "code",
    "id": "Q_VQMB2wx5gX"
   },
   "outputs": [],
   "source": [
    "hx=Test_X @ Theta #computing hypothesis\n",
    "hx=np.reshape(hx,(hx.shape[0])) # converting (32,1) to (32,) :P-)\n",
    "hx_y=np.subtract(hx,Test_Y)\n",
    "J=(1/(2*m))*(hx_y @ hx_y) # computing cost"
   ]
  },
  {
   "cell_type": "code",
   "execution_count": 9,
   "metadata": {
    "colab": {
     "base_uri": "https://localhost:8080/",
     "height": 283
    },
    "colab_type": "code",
    "id": "DmeJ51W42oGO",
    "outputId": "bc957058-32e4-49d4-8bb1-f41ac3a78a0b"
   },
   "outputs": [
    {
     "name": "stdout",
     "output_type": "stream",
     "text": [
      "Cost for calculates thetas is :  0.018433458428247628\n"
     ]
    },
    {
     "data": {
      "image/png": "[encoded data removed]",
      "text/plain": [
       "<Figure size 432x288 with 1 Axes>"
      ]
     },
     "metadata": {
      "needs_background": "light",
      "tags": []
     },
     "output_type": "display_data"
    }
   ],
   "source": [
    "plt.plot(Test_X[:,1],Test_Y)\n",
    "plt.plot(Test_X[:,1],hx)\n",
    "print(\"Cost for calculates thetas is : \",J)"
   ]
  }
 ],
 "metadata": {
  "colab": {
   "collapsed_sections": [],
   "name": "Untitled0.ipynb",
   "provenance": []
  },
  "kernelspec": {
   "display_name": "Python 3",
   "language": "python",
   "name": "python3"
  },
  "language_info": {
   "codemirror_mode": {
    "name": "ipython",
    "version": 3
   },
   "file_extension": ".py",
   "mimetype": "text/x-python",
   "name": "python",
   "nbconvert_exporter": "python",
   "pygments_lexer": "ipython3",
   "version": "3.7.4"
  }
 },
 "nbformat": 4,
 "nbformat_minor": 1
}
