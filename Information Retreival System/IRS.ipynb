{
 "cells": [
  {
   "cell_type": "code",
   "execution_count": 1,
   "metadata": {},
   "outputs": [],
   "source": [
    "import numpy as np\n",
    "import operator"
   ]
  },
  {
   "cell_type": "code",
   "execution_count": 2,
   "metadata": {},
   "outputs": [],
   "source": [
    "f1 = open('f1.txt')\n",
    "data = f1.read().replace('\\n', '')\n",
    "data = data.lower()\n",
    "Data1 = data.split()\n",
    "f1.close()"
   ]
  },
  {
   "cell_type": "code",
   "execution_count": 3,
   "metadata": {},
   "outputs": [],
   "source": [
    "f2 = open('f2.txt')\n",
    "data = f2.read().replace('\\n', '')\n",
    "data = data.lower()\n",
    "Data2 = data.split()\n",
    "f2.close()"
   ]
  },
  {
   "cell_type": "code",
   "execution_count": 4,
   "metadata": {},
   "outputs": [],
   "source": [
    "f3 = open('f3.txt')\n",
    "data = f3.read().replace('\\n', '')\n",
    "data = data.lower()\n",
    "Data3 = data.split()\n",
    "f3.close()"
   ]
  },
  {
   "cell_type": "code",
   "execution_count": 5,
   "metadata": {},
   "outputs": [],
   "source": [
    "files=dict()\n",
    "files={0:\"f1.txt\",1:\"f2.txt\",2:\"f3.txt\"}"
   ]
  },
  {
   "cell_type": "code",
   "execution_count": 6,
   "metadata": {},
   "outputs": [],
   "source": [
    "Data = list()\n",
    "Data.extend(Data1)\n",
    "Data.extend(Data2)\n",
    "Data.extend(Data3)"
   ]
  },
  {
   "cell_type": "code",
   "execution_count": 7,
   "metadata": {},
   "outputs": [
    {
     "name": "stdout",
     "output_type": "stream",
     "text": [
      "['\"a', '\"all', '\"as', '\"as', '\"given', '\"however,', '\"however,', '\"i', '\"i', '\"if', '\"if', '\"it', '\"it', '\"it', '\"it', '\"junior', '\"lack', '\"no-one,', '\"paris', '\"really', '\"scrapping', '\"the', '\"the', '\"the', '\"there', '\"there', '\"these', '\"this', '\"to', '\"yes.', '\"you', \"'cross\", \"'no\", \"'no-one\", \"'zen'\", \"'zen'\", '-', '-', '-', '-', '-', '-', '-', '10', '100', '11', '12', '14', '16th', '19,', '2-0', '24', '3', '3-2', '30', '31-year-old', '4-0', '5,000,', 'a', 'a', 'a', 'a', 'a', 'a', 'a', 'a', 'a', 'a', 'a', 'a', 'a', 'a', 'a', 'a', 'a', 'a', 'a', 'a', 'a', 'a', 'a', 'a', 'ability', 'about', 'about', 'about', 'ac', 'addition,', 'adopts', 'advice', 'advice,', 'advice.', 'after', 'after', 'after', 'aggregate,', 'aim', 'all', 'also', 'also.', 'amounts', 'an', 'an', 'and', 'and', 'and', 'and', 'and', 'and', 'and', 'and', 'and', 'and', 'and', 'and', 'and', 'and', 'and,', 'answered', 'any', 'anyone', 'anything', 'anything', 'anyway.', 'april', 'arabia.', 'are', 'are', 'are', 'are', 'are', 'are', 'are', 'are', 'are', 'are', 'area.', 'argentina', 'as', 'as', 'as', 'as', 'as', 'as', 'as', 'as', 'as', 'as', 'association', 'at', 'at', 'at', 'at', 'at', 'at', 'at', 'attendances', 'attracts', 'average', 'based', 'basically', 'bbc', 'bbc,', 'be', 'be', 'be', 'be', 'be', 'be', 'be', 'be', 'be', 'be', 'be', 'be', 'be.', 'beat', 'beaten', 'because', 'because', 'because', 'because', 'been', 'been', 'been', 'being', 'being', 'being', 'belonged', 'best', 'between', 'between', 'beyond', 'big', 'bonuses', 'borussia', 'boss', 'bought.', 'braut', 'brazil', 'bridge', 'bridging', 'britain', 'broadcasters', 'bt,', 'bull', 'business', 'businesses,', 'but', 'but', 'but', 'but', 'by', 'by', 'by', 'by', 'calendar,', 'called', 'calm', 'campaign', 'campaign', 'campaign,', 'campaigns', 'can', 'can', \"can't\", \"can't\", \"can't\", 'capital', 'carry', 'case.', 'category.', 'celebrating', 'celebration', 'celebration', 'celebration', 'certainly', 'champions', 'changed', 'changes', 'changing', 'chelsea,', 'city,', 'claim', 'clarity', 'class\",', 'clear', 'clear', 'clearly,', 'closed', 'clubs', 'clubs', 'clubs', 'clubs', 'clubs', 'clubs', 'clubs', 'clubs.', 'come', 'come', 'comes', 'community', 'complete', 'completely', 'complex', 'complications', 'compliment', 'continue', 'continue.', 'contracts', 'contracts.', 'controversial,', 'coppa', 'coronavirus', 'coronavirus', 'coronavirus,', 'could', 'could', 'could', 'could', 'could', 'county', 'cristiano', 'crossbar', 'cup', 'current', 'current', 'current', 'current', 'current', 'currently', 'currently', 'cutrone', 'date', 'day', 'deals', 'decision', 'decision', 'decision.', 'declare', 'definitely', 'deliver', 'des', 'determine', 'different', 'different', 'dig?', 'division,', 'does', \"doesn't\", \"don't\", \"don't\", \"don't\", \"don't\", \"don't\", 'dortmund', 'dortmund', 'down', 'drawn', 'drive', 'earlier', 'efl', 'efl', 'eighth', 'either', 'elite', 'else', 'empty', 'encouraged', 'end', 'end', 'ended', 'enough', 'enough', 'entirely', 'entirely.', 'envisaged', 'equalising', 'erling', 'europe.', 'european', 'everyone', 'exceptionally', 'exist.', 'expected', 'expects', 'experts', 'expire', 'extended', 'fa', 'fair', 'fall-out', 'falls', 'fans', 'fans', 'fans', 'fans', 'favourably', 'final', 'find', 'finish', 'finish', 'finish.', 'finishes.', 'finishing', 'five', 'flexibility', 'follow', 'follow', 'football', 'football', 'football', 'football', \"football'.\", \"football's\", 'football,', 'football.', 'for', 'for', 'for', 'for', 'for', 'for', 'for', 'for', 'for', 'for', 'for', 'for', 'for.', 'for.', 'form', 'forward', 'forward', 'forward,', 'four', 'france', 'franck', 'french', \"friday's\", 'from', 'from', 'from', 'from', 'from', 'front', 'game', 'game', 'game', 'game', 'games', 'games.', 'games.\"', 'gary', 'gattuso', 'generally,', 'gennaro', 'get', 'get', 'get', 'get', 'given', 'gives', 'go', 'goal', 'goal', 'goals', 'goes', 'gonzalo', 'got', 'government', 'government', 'government', 'guess', 'guesswork', 'haaland', 'haaland', 'haaland', \"haaland's\", 'haaland,', 'had', 'had', 'had', 'had', 'half', 'handing', 'happen.', 'happens', 'happens', 'happens', 'harsh', 'has', 'has', 'has', 'has', 'has', 'has', 'has', 'has', 'has', 'have', 'have', 'have', 'have', 'have', 'have', 'have', 'have', 'have', 'having', 'having', 'header', 'here.\"', 'higuain,', 'him', 'him', 'his', 'his', 'his', 'hit', 'hours', 'how', 'how', 'how', 'however,', 'huge', 'i', 'i', 'i', 'i', 'i', 'i', 'i', 'if', 'if', 'if', 'if', 'illogical', 'impact', 'in', 'in', 'in', 'in', 'in', 'in', 'in', 'in', 'in', 'in', 'in', 'in', 'in', 'in', 'in', 'in', 'in', 'in', 'in', 'in', 'in', 'in', 'instagram', 'instagram', 'interest', 'international', 'into', 'introduced', 'involved.', 'is', 'is', 'is', 'is', 'is', 'is', 'is', 'is', 'is', 'is', 'is', 'is', 'is', 'is', 'is', 'is', 'is', 'is', 'is', 'is', 'is', 'is', 'issues', 'it', 'it', 'it', 'it', 'it', 'it', 'it', 'it', 'it', 'it', 'it', 'it', \"it'\", \"it's\", 'italia', 'italian', 'italiana', \"italy's\", 'its', 'its', 'ivorian', 'jeddah,', 'joining', 'jubilant', 'june,', 'jurgen', 'just', 'just', 'juve', 'juventus', 'juventus,', 'kessie', \"klopp's\", 'knocking', 'know', 'knows', 'knows', 'knows', 'kylian', 'last', 'latter', 'leaders.', 'league', 'league', 'league', 'league', 'league', 'league.', 'leagues', 'leagues', 'least', 'led', 'length', 'level', 'lifted.\"', 'like', 'likely', 'line', 'lineker', 'little', 'live', 'loan', 'loans.', 'local', 'lofted', 'long', 'long', 'long', 'look', 'looking', 'love', 'made', 'magnitude.', 'majority', 'make', 'making', 'many', 'many', 'match', 'matches', 'matches', 'matches', 'matches', 'matches', 'matches', 'matches', 'matter', 'may', 'may', 'may.', 'mbappe', 'mbappe', 'mbappe', 'me', 'me,', 'media', 'medical', 'medical', 'meditation', 'meeting', 'meeting', 'men.', 'midfielder', 'midweek', 'milan', 'milan', 'milan,', 'mimicking', 'miralem', 'money', 'money', 'more', 'more', 'more', 'most', 'most', 'move', 'move', 'much', 'much', 'national', 'national', 'need', 'next', 'next', 'next', 'next.\"', 'next?', 'neymar\".', 'neymar,', 'nine', 'no', 'no-one', 'no-one', 'nodded', 'norway', 'norwegian', 'not', 'not', 'not', 'not', 'not', 'not', 'not', 'nothing', 'notts', 'now,', 'now.', 'numbers', 'obviously', 'occasionally', 'of', 'of', 'of', 'of', 'of', 'of', 'of', 'of', 'of', 'of', 'of', 'of', 'of', 'of', 'of', 'of', 'of', 'of', 'of', 'of', 'of', 'of', 'of', 'of', 'of', 'of', 'of', 'off', 'off', 'off,', 'off.', 'offered', 'on', 'on', 'on', 'on', 'on', 'on', 'on', 'on', 'on', 'on', 'on', 'on', 'on', 'on', 'on', 'on', 'on', 'one', 'open.', 'option', 'option', 'option', 'options.', 'or', 'or', 'or', 'or', 'or', 'our', 'out', 'out', 'outline', 'overwhelmed', 'parc', 'paris', 'part', 'pass', 'passed', 'patrick', 'pay', 'pay', 'paying', 'payments', 'peak', 'pitch', \"pjanic's\", 'place', 'play', 'play-offs.', 'played', 'played', 'played', 'played,', 'players', 'players', 'players', 'playing.', 'plenty', 'plus', 'plus', 'plus', 'point,', 'point.', 'point.\"', 'portugal', 'pose', 'positions', 'possible,', 'possible.\"', 'post.', 'posted', 'preferable', 'preference', 'premier', 'premier', 'premier', 'premier', 'present', 'present', 'presenter', 'princes', 'problem', 'promotion', 'psg', \"psg's\", 'quarter-finals', 'questions', 'rattled', 'react', 'recognises', 'record', 'red', 'refundable', 'refunds', 'relegation,', 'repeat,', 'reportedly', 'represented.\"', 'required.', 'restart', 'restart', 'restarts,', 'result', 'rethink', \"ronaldo's\", \"ronaldo's\", 'room', 'rossoneri,', 'round', 'rounds,', 'run', 'said', 'said', 'salzburg,', 'same', 'same', 'same', 'saudi', 'say', 'say', 'says', 'scenarios', 'scored', 'scoring', 'scrapping', 'screen', 'season', 'season', 'season', 'season', 'season', 'season', 'season', 'season', 'season', 'season', 'season', \"season's\", 'season.', 'second', 'see', 'see', 'see', 'sensation', 'sense', 'sent', 'serie', 'seriously', 'settle', 'share', 'share', 'shield.', 'should', 'should', 'showed', 'showed', 'shut', 'shutdown', 'side', 'simon', 'since', 'situation', 'situation', 'situation', 'situation', 'situation,', 'situation.', 'situation.\"', 'six', 'sky', 'snapchat', 'so', 'so', 'so', 'so', 'social', 'some', 'some', 'some', 'some', 'somewhere.', 'source', 'spectators', 'spectators,', \"sport's\", 'sport.', 'sports', 'spread', 'st-germain', 'stage,', 'stage.', 'stage.\"', 'stands', 'start', 'start.', 'started', 'stated', 'still', 'stone', 'stone:', 'stone:', 'stone:', 'stone:', 'stone:', 'stone:', 'stone:', 'stone:', 'stone:', 'stone:', 'stone:', 'stone:', 'stopped', 'strike', 'striker', 'striker', 'striker', \"striker's\", 'subject', 'subscription', 'subscriptions.', 'substitute', 'successful', 'suggested', 'summer,', 'supercoppa', 'supposed', 'suspect', 'suspended', 'suspension', 'table.', 'take', 'take', 'taken', 'team', 'team-mates', 'team-mates', 'teams', 'territory', 'than', 'than', 'that', 'that', 'that', 'that', 'that', 'that', 'that', 'that', 'that', 'that', 'that', 'that', 'that', 'that', 'that', 'the', 'the', 'the', 'the', 'the', 'the', 'the', 'the', 'the', 'the', 'the', 'the', 'the', 'the', 'the', 'the', 'the', 'the', 'the', 'the', 'the', 'the', 'the', 'the', 'the', 'the', 'the', 'the', 'the', 'the', 'the', 'the', 'the', 'the', 'the', 'the', 'the', 'the', 'the', 'the', 'the', 'the', 'the', 'the', 'the', 'the', 'the', 'the', 'the', 'the', 'the', 'the', 'the', 'the', 'the', 'the', 'the', 'the', 'the', 'the', 'the', 'the', 'the', 'the', 'the', 'the', 'the', 'the', 'the', 'the', 'the', 'the', 'the', 'the', 'the', 'the', 'the', 'the', 'the', 'the', 'the', 'the', 'the', 'their', 'their', 'their', 'them,', 'theory,', 'there', 'there', 'there', 'there', 'there.', 'therefore', 'these', 'they', 'they', 'they', 'things,', 'think', 'think', 'think', 'this', 'this', 'this', 'this', 'this', 'this', 'this', 'this', 'this', 'this', 'this', 'this', 'this', 'this', 'this', 'those', 'thought', 'three', 'three', 'three', 'three', 'three', 'through', 'thursday', 'thursday', 'tickets', 'tickets', 'tickets', 'time', 'time.', 'to', 'to', 'to', 'to', 'to', 'to', 'to', 'to', 'to', 'to', 'to', 'to', 'to', 'to', 'to', 'to', 'to', 'to', 'to', 'to', 'to', 'to', 'to', 'to', 'to', 'to', 'to', 'to', 'today', 'told', 'took', 'took', 'trademark', 'training.', 'tranquillity.', 'transfer', 'tuesday,', 'turn,', 'tweeted', 'two', 'two', 'uefa', \"uefa's\", 'unable', 'uncharted', 'unknown', 'until', 'until', 'until', 'use', 'using', 'using', 'usual.\"', 'version', 'very', 'video.', 'void', 'was', 'was', 'was', 'was', 'was', 'was', 'was', 'way', 'way', 'way,', 'we', 'we', 'weekend.', 'weeks', 'weeks', 'weeks.', 'weeks.\"', 'well', 'were', 'were', 'what', 'what', 'what', \"what'\", 'when', 'when', 'when', 'when', 'whenever', 'whenever', 'whether', 'which', 'which', 'which', 'while', 'who', 'who', 'who', 'who', 'who', 'who', 'who', 'who', 'whole.', 'whose', 'whose', 'why', 'why', 'will', 'will', 'will', 'will', 'will', 'will', 'will', 'will', 'will', 'will', 'will', 'will', 'will', 'will', 'will', 'will', 'will', 'will', 'win', 'window', 'window,', 'with', 'with', 'with', 'with', 'with', 'with', 'would', 'would', 'would', 'would', 'yes.', 'yesterday', 'yesterday', 'yet.', 'you', 'your', 'yours\"']\n"
     ]
    }
   ],
   "source": [
    "Data=sorted(Data)\n",
    "s=set(Data)"
   ]
  },
  {
   "cell_type": "code",
   "execution_count": 8,
   "metadata": {},
   "outputs": [],
   "source": [
    "Indices_record=dict()\n",
    "for i in range(len(s)):\n",
    "    Indices_record[list(s)[i]]=i"
   ]
  },
  {
   "cell_type": "code",
   "execution_count": 9,
   "metadata": {},
   "outputs": [],
   "source": [
    "Array=np.zeros((3,len(s)))"
   ]
  },
  {
   "cell_type": "code",
   "execution_count": 10,
   "metadata": {},
   "outputs": [],
   "source": [
    "for i in Data1:\n",
    "    if i in Indices_record.keys():\n",
    "        Array[0][Indices_record[i]]=1\n",
    "\n",
    "for i in Data2:\n",
    "    if i in Indices_record.keys():\n",
    "        Array[1][Indices_record[i]]=1\n",
    "        \n",
    "for i in Data3:\n",
    "    if i in Indices_record.keys():\n",
    "        Array[2][Indices_record[i]]=1"
   ]
  },
  {
   "cell_type": "code",
   "execution_count": 11,
   "metadata": {},
   "outputs": [
    {
     "name": "stdout",
     "output_type": "stream",
     "text": [
      "Enter your query : football keiliyan\n"
     ]
    }
   ],
   "source": [
    "query = input(\"Enter your query : \")# All files are related to football so input about football stuff \n",
    "query_list=(query.lower()).split()"
   ]
  },
  {
   "cell_type": "code",
   "execution_count": 12,
   "metadata": {},
   "outputs": [],
   "source": [
    "query_Array=np.zeros(len(s))\n",
    "for i in query_list:\n",
    "    if i in Indices_record.keys():\n",
    "        query_Array[Indices_record[i]]=1"
   ]
  },
  {
   "cell_type": "code",
   "execution_count": 13,
   "metadata": {},
   "outputs": [],
   "source": [
    "d=Array.dot(query_Array)"
   ]
  },
  {
   "cell_type": "code",
   "execution_count": 14,
   "metadata": {},
   "outputs": [],
   "source": [
    "Result=dict()\n",
    "for i in range(0,len(d)):\n",
    "    Result[i]=d[i]"
   ]
  },
  {
   "cell_type": "code",
   "execution_count": 15,
   "metadata": {},
   "outputs": [],
   "source": [
    "sorted_Result = dict( sorted(Result.items(), key=operator.itemgetter(1),reverse=True))    "
   ]
  },
  {
   "cell_type": "code",
   "execution_count": 16,
   "metadata": {},
   "outputs": [
    {
     "name": "stdout",
     "output_type": "stream",
     "text": [
      "\n",
      "-> f2.txt\n",
      "\n",
      "-> f1.txt\n",
      "\n",
      "-> f3.txt\n"
     ]
    }
   ],
   "source": [
    "for i in sorted_Result:\n",
    "    print(\"\\n->\",files[i])"
   ]
  }
 ],
 "metadata": {
  "kernelspec": {
   "display_name": "Python 3",
   "language": "python",
   "name": "python3"
  },
  "language_info": {
   "codemirror_mode": {
    "name": "ipython",
    "version": 3
   },
   "file_extension": ".py",
   "mimetype": "text/x-python",
   "name": "python",
   "nbconvert_exporter": "python",
   "pygments_lexer": "ipython3",
   "version": "3.7.4"
  }
 },
 "nbformat": 4,
 "nbformat_minor": 2
}
