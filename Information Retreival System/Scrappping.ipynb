{
 "cells": [
  {
   "cell_type": "code",
   "execution_count": 2,
   "metadata": {},
   "outputs": [],
   "source": [
    "from urllib.request import urlopen\n",
    "from bs4 import BeautifulSoup"
   ]
  },
  {
   "cell_type": "code",
   "execution_count": 4,
   "metadata": {},
   "outputs": [],
   "source": [
    "url =\"https://www.bbc.com/sport/football/46897172\"\n",
    "\n",
    "try:\n",
    "   page = urlopen(url)\n",
    "except:\n",
    "   print(\"Error opening the URL\")\n",
    "\n",
    "soup = BeautifulSoup(page, 'html.parser')\n",
    "\n",
    "content = soup.find('div', {\"class\": \"story-body sp-story-body gel-body-copy\"})\n",
    "article = ''\n",
    "for i in content.findAll('p'):\n",
    "    article = article + ' ' +  i.text\n",
    "    \n",
    "with open('f1.txt', 'w') as file:\n",
    "    file.write(article)"
   ]
  },
  {
   "cell_type": "code",
   "execution_count": 5,
   "metadata": {},
   "outputs": [],
   "source": [
    "url =\"https://www.bbc.com/sport/football/51876162\"\n",
    "\n",
    "try:\n",
    "   page = urlopen(url)\n",
    "except:\n",
    "   print(\"Error opening the URL\")\n",
    "\n",
    "soup = BeautifulSoup(page, 'html.parser')\n",
    "\n",
    "content = soup.find('div', \"gel-layout__item gel-2/3@l\")\n",
    "article = ''\n",
    "for i in content.findAll('p'):\n",
    "    article = article + ' ' +  i.text\n",
    "    \n",
    "with open('f2.txt', 'w') as file:\n",
    "    file.write(article)"
   ]
  },
  {
   "cell_type": "code",
   "execution_count": 6,
   "metadata": {},
   "outputs": [],
   "source": [
    "url =\"https://www.bbc.com/sport/football/51849160\"\n",
    "\n",
    "try:\n",
    "   page = urlopen(url)\n",
    "except:\n",
    "   print(\"Error opening the URL\")\n",
    "\n",
    "soup = BeautifulSoup(page, 'html.parser')\n",
    "\n",
    "content = soup.find('div', {\"class\": \"story-body sp-story-body gel-body-copy\"})\n",
    "article = ''\n",
    "for i in content.findAll('p'):\n",
    "    article = article + ' ' +  i.text\n",
    "    \n",
    "with open('f3.txt', 'w') as file:\n",
    "    file.write(article)"
   ]
  }
 ],
 "metadata": {
  "kernelspec": {
   "display_name": "Python 3",
   "language": "python",
   "name": "python3"
  },
  "language_info": {
   "codemirror_mode": {
    "name": "ipython",
    "version": 3
   },
   "file_extension": ".py",
   "mimetype": "text/x-python",
   "name": "python",
   "nbconvert_exporter": "python",
   "pygments_lexer": "ipython3",
   "version": "3.7.4"
  }
 },
 "nbformat": 4,
 "nbformat_minor": 2
}
