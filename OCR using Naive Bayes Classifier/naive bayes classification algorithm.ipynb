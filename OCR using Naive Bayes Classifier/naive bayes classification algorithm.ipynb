{
  "nbformat": 4,
  "nbformat_minor": 0,
  "metadata": {
    "colab": {
      "name": "Untitled0.ipynb",
      "provenance": [],
      "collapsed_sections": []
    },
    "kernelspec": {
      "name": "python3",
      "display_name": "Python 3"
    }
  },
  "cells": [
    {
      "cell_type": "code",
      "metadata": {
        "id": "DfuIISLpYg9E",
        "colab_type": "code",
        "colab": {}
      },
      "source": [
        "import pandas as pd\n",
        "import numpy as np\n",
        "import matplotlib.pyplot as plt"
      ],
      "execution_count": 0,
      "outputs": []
    },
    {
      "cell_type": "markdown",
      "metadata": {
        "id": "ChW7X6MMv8V_",
        "colab_type": "text"
      },
      "source": [
        "**Loading data from .txt files to numpy arrays**"
      ]
    },
    {
      "cell_type": "code",
      "metadata": {
        "id": "4Y_WXgKraC2r",
        "colab_type": "code",
        "colab": {}
      },
      "source": [
        "X=pd.read_csv('trainX.txt', delim_whitespace=True, header=None).astype(int).values\n",
        "Y=pd.read_csv('trainY.txt', delim_whitespace=True, header=None).astype(int).values\n",
        "Test_X=pd.read_csv('testX.txt', delim_whitespace=True, header=None).astype(int).values\n",
        "Test_Y=pd.read_csv('testY.txt', delim_whitespace=True, header=None).astype(int).values"
      ],
      "execution_count": 0,
      "outputs": []
    },
    {
      "cell_type": "markdown",
      "metadata": {
        "id": "iSj0OgQYvGra",
        "colab_type": "text"
      },
      "source": [
        "**Drew 1 input from training data to check that it loaded correctly or not**"
      ]
    },
    {
      "cell_type": "code",
      "metadata": {
        "id": "Z3anYodE1zI0",
        "colab_type": "code",
        "colab": {
          "base_uri": "https://localhost:8080/",
          "height": 283
        },
        "outputId": "1a7c688a-d62f-438b-9b43-789e7e41bf03"
      },
      "source": [
        "img1=np.reshape(X[0,:],(16,16),order='F')\n",
        "plt.imshow(img1)"
      ],
      "execution_count": 3,
      "outputs": [
        {
          "output_type": "execute_result",
          "data": {
            "text/plain": [
              "<matplotlib.image.AxesImage at 0x7fcb041dd160>"
            ]
          },
          "metadata": {
            "tags": []
          },
          "execution_count": 3
        },
        {
          "output_type": "display_data",
          "data": {
            "image/png": "[encoded data removed]",
            "text/plain": [
              "<Figure size 432x288 with 1 Axes>"
            ]
          },
          "metadata": {
            "tags": [],
            "needs_background": "light"
          }
        }
      ]
    },
    {
      "cell_type": "code",
      "metadata": {
        "id": "ycA_0DnjxL-l",
        "colab_type": "code",
        "colab": {
          "base_uri": "https://localhost:8080/",
          "height": 283
        },
        "outputId": "c100fe47-da12-4a6b-d8ba-db85932c82ca"
      },
      "source": [
        "img2=np.reshape(X[499,:],(16,16),order='F')\n",
        "plt.imshow(img2)"
      ],
      "execution_count": 4,
      "outputs": [
        {
          "output_type": "execute_result",
          "data": {
            "text/plain": [
              "<matplotlib.image.AxesImage at 0x7fcb03d38cf8>"
            ]
          },
          "metadata": {
            "tags": []
          },
          "execution_count": 4
        },
        {
          "output_type": "display_data",
          "data": {
            "image/png": "[encoded data removed]",
            "text/plain": [
              "<Figure size 432x288 with 1 Axes>"
            ]
          },
          "metadata": {
            "tags": [],
            "needs_background": "light"
          }
        }
      ]
    },
    {
      "cell_type": "markdown",
      "metadata": {
        "id": "v9allAGyjGyW",
        "colab_type": "text"
      },
      "source": [
        "# **naive bayes classification algorithm**"
      ]
    },
    {
      "cell_type": "markdown",
      "metadata": {
        "id": "YkrhBZbJNI7E",
        "colab_type": "text"
      },
      "source": [
        "*   **Calculating Probabilities w.r.t training data**\n"
      ]
    },
    {
      "cell_type": "code",
      "metadata": {
        "id": "c_GgVfeC9ZSt",
        "colab_type": "code",
        "colab": {}
      },
      "source": [
        "Two_Train=X[:249,:]\n",
        "Four_Train=X[250:,:]\n",
        "Two_1_Prob=(Two_Train.sum(axis=0)+1)/(Two_Train.shape[0]+2)\n",
        "Two_0_Prob=1-Two_1_Prob\n",
        "Four_1_Prob=(Four_Train.sum(axis=0)+1)/(Four_Train.shape[0]+2)\n",
        "Four_0_Prob=1-Four_1_Prob\n",
        "Two_Prob=250/500\n",
        "Four_Prob=1-Two_Prob"
      ],
      "execution_count": 0,
      "outputs": []
    },
    {
      "cell_type": "markdown",
      "metadata": {
        "id": "Bx4yxQIlNtfk",
        "colab_type": "text"
      },
      "source": [
        "*   **Running this trained model on Test data**"
      ]
    },
    {
      "cell_type": "code",
      "metadata": {
        "id": "BXOV7E9uOQzi",
        "colab_type": "code",
        "colab": {}
      },
      "source": [
        "hx=np.zeros((Test_Y.shape[0],Test_Y.shape[1]),int)\n",
        "for i in range(Test_X.shape[0]):\n",
        "  p2=0.5\n",
        "  p4=0.5\n",
        "  for j in range(Test_X[i,:].shape[0]):\n",
        "    if Test_X[i][j]==0:\n",
        "      p2=p2*Two_0_Prob[j]\n",
        "      p4=p4*Four_0_Prob[j]\n",
        "    elif Test_X[i][j]==1:\n",
        "      p2=p2*Two_1_Prob[j]\n",
        "      p4=p4*Four_1_Prob[j]\n",
        "  if p2>p4:\n",
        "    hx[i]=2\n",
        "  else:\n",
        "    hx[i]=4"
      ],
      "execution_count": 0,
      "outputs": []
    },
    {
      "cell_type": "markdown",
      "metadata": {
        "id": "8s8sL5uDZJde",
        "colab_type": "text"
      },
      "source": [
        "*   **Now Calculating model Performace Matrix**"
      ]
    },
    {
      "cell_type": "code",
      "metadata": {
        "id": "iHKyTxQcZIp9",
        "colab_type": "code",
        "colab": {}
      },
      "source": [
        "TP = FP = TN = FN = 0\n",
        "for i in range(len(Test_Y)): \n",
        "  if Test_Y[i][0]==hx[i][0]==2:\n",
        "    TP += 1\n",
        "  if hx[i][0]==2 and Test_Y[i][0]!=hx[i][0]:\n",
        "    FP += 1\n",
        "  if Test_Y[i][0]==hx[i][0]==4:\n",
        "    TN += 1\n",
        "  if hx[i][0]==4 and Test_Y[i][0]!=hx[i][0]:\n",
        "    FN += 1"
      ],
      "execution_count": 0,
      "outputs": []
    },
    {
      "cell_type": "markdown",
      "metadata": {
        "id": "yk3AV_cZngzt",
        "colab_type": "text"
      },
      "source": [
        "*   **Now calculating  \"Accuracy\" , \"Precision\" , \"Recall\" and \"F1 Score\" of this trained model**"
      ]
    },
    {
      "cell_type": "code",
      "metadata": {
        "id": "vgtc0ujlngch",
        "colab_type": "code",
        "colab": {
          "base_uri": "https://localhost:8080/",
          "height": 90
        },
        "outputId": "83885b46-e795-4a6e-9c34-49e62a065df1"
      },
      "source": [
        "accuracy=(TP+TN)/(TP+FP+TN+FN)\n",
        "precision=TP/(TP+FP)\n",
        "recall=TP/(TP+FN)\n",
        "F1= 2*((precision*recall)/(precision+recall))\n",
        "print(\"This model is %3.2f%% accurate.\" %(accuracy*100))\n",
        "print(\"This model has precision of %3.2f%% .\" %(precision*100))\n",
        "print(\"This model has recall of %3.2f%% .\" %(recall*100))\n",
        "print(\"This model has F1 score of %3.2f%% .\" %(F1*100))"
      ],
      "execution_count": 8,
      "outputs": [
        {
          "output_type": "stream",
          "text": [
            "This model is 100.00% accurate.\n",
            "This model has precision of 100.00% .\n",
            "This model has recall of 100.00% .\n",
            "This model has F1 score of 100.00% .\n"
          ],
          "name": "stdout"
        }
      ]
    }
  ]
}